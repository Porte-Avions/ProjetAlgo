{
 "cells": [
  {
   "cell_type": "markdown",
   "id": "0d09d501",
   "metadata": {
    "collapsed": false,
    "pycharm": {
     "name": "#%% md\n"
    }
   },
   "source": []
  },
  {
   "cell_type": "markdown",
   "id": "fa9d0db4",
   "metadata": {
    "collapsed": false,
    "pycharm": {
     "name": "#%% md\n"
    }
   },
   "source": [
    "# <center>Projet Algorithmique</center>\n"
   ]
  },
  {
   "cell_type": "markdown",
   "id": "319bd986",
   "metadata": {
    "collapsed": false,
    "pycharm": {
     "name": "#%% md\n"
    }
   },
   "source": [
    "# Contexte\n",
    "\n",
    "L’ADEME (Agence de l’Environnement et de la Maîtrise de l’Energie) a récemment lancé un appel à manifestation d’intérêt pour promouvoir la réalisation de démonstrateurs et d’expérimentations de nouvelles solutions de mobilité pour les personnes et les marchandises adaptées à différents types de territoires.\n",
    "\n",
    "Votre structure CesiCDP est déjà bien implantée dans le domaine. Aidé de nombreux partenaires, vous avez réalisé plusieurs études sur le thème de la Mobilité Multimodale Intelligente. Les nouvelles technologies de transport, plus économiques et moins polluantes ne sont pas sans poser de nouveaux défis notamment d’un point de vue de l’optimisation de la gestion des ressources. Mais ces problèmes de logistique du transport présentent un enjeu majeur pour l’avenir : ses applications sont nombreuses (distribution du courrier, livraison de produits, traitement du réseau routier, ramassage des ordures) et leur impact sur l’environnement peut être véritablement significatif.\n",
    "\n",
    "Vous faites partie de l’équipe (4 personnes) mise en place par CesiCDP pour répondre à l’appel de l’ADEME. L’enjeu est d’obtenir de nouveaux marchés avec des financements très intéressants pour continuer à développer votre activité.\n",
    "\n",
    "CesiCDP a décidé d’orienter son étude sur la gestion de tournées de livraison. Le problème algorithmique consiste à calculer sur un réseau routier une tournée permettant de relier entre elles un sous-ensemble de villes, puis de revenir à son point de départ, de manière à minimiser la durée totale de la tournée. Cette optimisation devra tenir compte du trafic prévu sur chaque axe pour les différentes tranches horaires.\n",
    "\n",
    "L’idée est de proposer une méthode issue de la Recherche Opérationnelle pour générer une tournée de livraison correspondant à ce problème.\n",
    "\n",
    "Le périmètre reste encore à préciser. Vous avez décrit une version de base du problème. Mais, afin de le rendre plus réaliste et retenir toute l’attention de l’ADEME, vous hésitez à ajouter des contraintes supplémentaires. Il faut s’attendre à ce qu’il soit ainsi plus dur à traiter."
   ]
  },
  {
   "cell_type": "markdown",
   "id": "8e03f785",
   "metadata": {
    "collapsed": false,
    "pycharm": {
     "name": "#%% md\n"
    }
   },
   "source": [
    "### Version de base\n",
    "\n",
    "Le choix du modèle et le code en Python capable de résoudre des instances de taille importante (plusieurs milliers de villes)\n",
    "\n",
    "Une étude statistique du comportement expérimental de l'algorithme\n",
    "\n"
   ]
  },
  {
   "cell_type": "markdown",
   "id": "e2c98323",
   "metadata": {
    "collapsed": false,
    "pycharm": {
     "name": "#%% md\n"
    }
   },
   "source": [
    "## La tournée des villes :\n",
    "\n",
    "La tournée se représente sous forme de graphe.\n",
    "On a décidé de représenter les villes par des points et\n",
    "Ce graphe est pondéré où chaque point représente une ville et le poids de chaque arête correspond à une route.\n",
    "\n",
    "    Mettre un graphe\n",
    "\n",
    "Ce graphe est connexe car chaque ville est au minimum relié à une autre ville par une route.\n",
    "Il est aussi incomplet car toutes les villes ne sont pas reliées directement entre elles.\n",
    "Le graphe est non orienté, il n'y a donc pas de sens unique dans le parcours.\n",
    "\n"
   ]
  },
  {
   "cell_type": "markdown",
   "id": "74d5e9a3",
   "metadata": {
    "collapsed": false,
    "pycharm": {
     "name": "#%% md\n"
    }
   },
   "source": [
    "# Représentation formelle\n",
    "\n",
    "---\n",
    "\n",
    "<aside>\n",
    "💡 On considère pour la suite :\n",
    "\n",
    "<br>\n",
    "\n",
    "Le graphe pondéré non orienté $G = (X, A, \\mathcal{G})$ avec X l’ensemble des sommets tel que $x \\in X$ est appelé sommet.\n",
    "\n",
    "A une partie de $X\\times X$, l’ensemble des arrêtes tel que : $\\overline{u} \\in \\rm A$ où $\\overline{u}$ est une arrête de G.\n",
    "\n",
    "On considère l’application $\\mathcal{l}: A \\to \\mathbb{N}$ renvoyant la longueure (en mètre) d’une arrête de $A$.\n",
    "\n",
    "On considère l’application $\\mathcal{p}: A \\to \\mathbb{N}$ renvoyant le coût (en €) d’une arrête de $A$.\n",
    "\n",
    "On considère l’application $\\mathcal{deg}: X \\to \\mathbb{N}$ renvoyant le degrès d’un sommet de X.\n",
    "\n",
    "On supposera:\n",
    "\n",
    "- $G$ connexe\n",
    "- Sans puits $\\leftrightarrow \\forall x \\in X, deg(x) > 1$\n",
    "- Sans boucle $\\leftrightarrow \\forall \\overline{u} \\in A, \\forall x \\in X, \\nexists \\overline{u} = (x,x)$\n",
    "- $G$ non complet (pour être réaliste)\n",
    "\n"
   ]
  },
  {
   "cell_type": "markdown",
   "id": "64228833",
   "metadata": {
    "collapsed": false,
    "pycharm": {
     "name": "#%% md\n"
    }
   },
   "source": [
    "## Des routes :\n",
    "\n",
    "Sur le graphe chaque arête représente une route.\n",
    "\n",
    "Le graphe étant pondéré, le poids de chaque route correspond au temps qu’il faut pour la parcourir en tenant compte du trafic et de toute autre contrainte pouvant influencer sur le temps.\n"
   ]
  },
  {
   "cell_type": "markdown",
   "id": "bbb692df",
   "metadata": {
    "collapsed": false,
    "pycharm": {
     "name": "#%% md\n"
    }
   },
   "source": [
    "## Du problème\n",
    "\n",
    "---\n",
    "\n",
    "Le problème consiste à trouver le chemin de plus courte durée pour réaliser la tournée d’un ensemble de ville. Entre autres, à partir d’un graphe il faut partir d’un point A, parcourir l’ensemble des points du graphe, et revenir à ce même point A en un minimum de temps possible. De plus, il faut pouvoir minimiser la durée totale de la tournée en tenant compte du trafic sur chaque route mais aussi de toute autre contrainte pouvant nous faire perdre du temps.\n",
    "\n"
   ]
  },
  {
   "cell_type": "markdown",
   "id": "933cc6e7",
   "metadata": {
    "collapsed": false,
    "pycharm": {
     "name": "#%% md\n"
    }
   },
   "source": [
    "### De l’objectif à optimiser\n",
    "\n",
    "---\n",
    "\n",
    "## Données :\n",
    "\n",
    "- Le graphe G\n",
    "- Une liste $L$ de sommets appartenant à G\n",
    "- Un point de départ D\n"
   ]
  },
  {
   "cell_type": "markdown",
   "id": "454471af",
   "metadata": {
    "collapsed": false,
    "pycharm": {
     "name": "#%% md\n"
    }
   },
   "source": [
    "## Problème\n",
    "\n",
    "Existe-t-il une tournée passant au moins une fois par chacune de nos villes de _G_ et dont le temps de la tournée est minimal ?\n",
    "\n",
    "Soit $\\mu$ un chemin, on obtient donc la longueur d’un chemin $\\mathcal{l}(\\mu) = \\sum_{u\\in\\mu} \\mathcal{l}(u)$\n",
    "\n",
    "Le but est donc de minimiser $\\mathcal{l}(\\mu)$\n",
    "\n",
    "<aside>\n",
    "<br>\n",
    "\n",
    "⚠️ **Contraintes :** <br>\n",
    "\n",
    "- **Temps supplémentaire avec le traffic:**\n",
    "  Le temps de parcours d’une arête varie au cours du temps pour représenter la variation du trafic. Un coefficient sera ajouté au temps de trajet de la route\n",
    "\n",
    "</aside>\n",
    "\n"
   ]
  },
  {
   "cell_type": "markdown",
   "id": "7b32342a",
   "metadata": {
    "collapsed": false,
    "pycharm": {
     "name": "#%% md\n"
    }
   },
   "source": [
    "# Complexité théorique du problème\n",
    "\n",
    "---\n",
    "\n",
    "Pour réaliser la tournée, nous devons trouver un algorithme afin de trouver un cycle hamiltonien (Tournée plus retours au point de départ).\n",
    "\n",
    "Nous avons choisi de réduire notre problème au problème du **_Voyageur de commerce_**\n",
    "\n",
    "> Il s’agit d’un problème d'optimisation qui consiste à déterminer, étant donné une liste de villes et les distances entre toutes les paires de villes, le plus court circuit qui passe par chaque ville une et une seule fois.\n",
    "\n",
    "Malgré la simplicité de l’énoncé, on ne connaît pas d'algorithme permettant de trouver une solution exacte rapidement dans tous les cas. Plus précisément, on ne connaît pas d'algorithme en temps polynomial, et la version décisionnelle du problème du voyageur de commerce\n",
    "\n",
    "Le voyageur du commerce souhaite répondre à la question suivante : Pour une distance D, existe-t-il un chemin plus court que D passant par toutes les villes et qui termine dans la ville de départ ?\n",
    "\n",
    "Ce problème d’optimisation est un problème NP-complet, ce qui est un indice de sa difficulté.\n",
    "\n",
    "Pour montrer que le problème du voyageur de commerce est NP-Complet, il faut d’abord montrer qu’il est NP-Difficile. Pour cela nous allons faire une réduction à partir du problème de Cycle Hamiltonien qui, nous le savons déjà, est NP-Complet.\n",
    "\n",
    "Nous allons donc transformer, en temps polynomial, une instance du Cycle Hamiltonien en instance du Voyageur de Commerce, de façon que les deux instances admettent la même réponse.\n",
    "</br>\n",
    "$\\forall\\:problèmes\\,p, \\;p \\in \\mathcal{NP}-complet \\leftrightarrow p \\in \\mathcal{NP}-Difficile\\, \\cap \\mathcal{NP}$\n",
    "\n"
   ]
  },
  {
   "cell_type": "markdown",
   "id": "fadcb03a",
   "metadata": {
    "collapsed": false,
    "pycharm": {
     "name": "#%% md\n"
    }
   },
   "source": [
    "### Exemple du voyageur de commerce:\n",
    "\n",
    "Vérification de l’appartenance à NP\n",
    "\n",
    "Le problème est dans NP car étant donné une suite de sommets, on peut vérifier en temps polynomial (plus précisément en temps linéaire) si c’est un circuit, s’il passe au moins une fois par chaque sommet, et si son coût est inférieur à _k_.\n",
    "\n",
    "Vérification de l’appartenance à NP-Difficile\n",
    "\n",
    "Voyageur de Commerce considère un graphe complet arête-valué, mais qu'il autorise à passer plusieurs fois par certains sommets, du moment que le circuit total est de taille inférieure à _k_ (on considère le problème de décision sur lequel est basé le problème d'optimisation, _k_ est donc un paramètre d'entrée).\n",
    "\n",
    "L'idée générale de cette réduction polynomiale est de construire l’instance de Cycle Hamiltonien en rajoutant les arêtes manquantes, mais avec une valeur de 2 (et en considérant une valeur de 1 pour les arêtes déjà présentes) de manière à rendre leur usage trop couteux, et en considérant un _k_ correspondant au nombre de sommets (on notera que cette transformation se fait en temps polynomial).\n",
    "\n",
    "![photo.jpg](img\\photo.jpg)\n",
    "\n",
    "De cette manière, si la réponse à l'instance de Voyageur de Commerce est _oui_, on sait que le circuit auquel correspond cette réponse passe une et une seule fois par les sommets du graphe, et n'emprunte que les arêtes du graphe de Cycle Hamiltonien. Tout cycle empruntant une des arêtes manquantes dans Cycle Hamiltonien aurait une taille supérieure à _k_, puisque les autres arêtes qu'on a ajoutées ont une taille supérieure à 1. Idem pour les cycles passant plusieurs fois par un sommet. Donc la réponse pour l'instance de Cycle Hamiltonien est _oui_ aussi. Idem si la réponse est _non_. Puisqu'on est capable de transformer en temps polynomial une instance de Cycle Hamiltonien en instance de Voyageur de Commerce, de manière à conserver la réponse, Voyageur de Commerce est au moins aussi difficile que Cycle Hamiltonien. Comme Cycle Hamiltonien est NP-Difficile, et que Voyageur de Commerce est dans NP, Voyageur de Commerce est NP-Complet.\n",
    "\n"
   ]
  },
  {
   "cell_type": "markdown",
   "id": "2c48bfcd",
   "metadata": {
    "collapsed": false,
    "pycharm": {
     "name": "#%% md\n"
    }
   },
   "source": [
    "# Problème d’optimisation\n",
    "\n"
   ]
  },
  {
   "cell_type": "markdown",
   "id": "2179b62e",
   "metadata": {
    "collapsed": false,
    "pycharm": {
     "name": "#%% md\n"
    }
   },
   "source": [
    "## Modélisation du problème\n",
    "\n",
    "Commençons par modéliser le problème sous la forme d'un programme linéaire. <br />\n"
   ]
  },
  {
   "cell_type": "markdown",
   "id": "31417edb",
   "metadata": {
    "collapsed": false,
    "pycharm": {
     "name": "#%% md\n"
    }
   },
   "source": [
    "### Variable de décision du programme\n",
    "\n",
    "$\\mu$ qui représente un chemin solutionnant notre problème."
   ]
  },
  {
   "cell_type": "markdown",
   "id": "e5c307d9",
   "metadata": {
    "collapsed": false,
    "pycharm": {
     "name": "#%% md\n"
    }
   },
   "source": [
    "### Contraintes du programme\n",
    "\n",
    "Les contraintes sont des conditions sur l'usage des ressources, c'est à dire des conditions que doivent respecter les valeurs des variables de décision pour former une solution _admissible_.\n",
    "\n",
    "<blockquote>\n",
    "Contrainte : Ajouter du temps de trajet lors des heures d’embouteillage\n",
    "\n",
    "$$\n",
    "7\\leq time \\leq 8 \\rightarrow time = time \\times [1.1,2[\n",
    "$$\n",
    "\n",
    "$$\n",
    "12\\leq time \\leq 13 \\rightarrow time = time \\times [1.1,2[\n",
    "$$\n",
    "\n",
    "$$\n",
    "17\\leq time \\leq 18 \\rightarrow time = time \\times [1.1,2[\n",
    "$$\n",
    "\n",
    "Contrainte de non négativité :\n",
    "\n",
    "$$\n",
    "\\mathcal{l}(\\mu)\\space et \\space \\mathcal{p}(\\mu) \\geq 0 ~\\forall \\mu \\in[1, n] \\space avec \\space n\\space la \\space longueur \\space du \\space tableau\n",
    "$$\n",
    "\n",
    "</blockquote>\n",
    "\n"
   ]
  },
  {
   "cell_type": "markdown",
   "id": "23e97b36",
   "metadata": {
    "collapsed": false,
    "pycharm": {
     "name": "#%% md\n"
    }
   },
   "source": [
    "### Fonction économique\n",
    "\n",
    "La fonction économique décrit ce qu'on veut optimiser lors de l'usage de nos ressources. C'est donc une fonction de nos variables de décision, que l'on doit maximiser ou minimiser. Comme pour les contraintes, dans un programme linéaire, cette fonction économique doit être elle-même linéaire.\n",
    "\n",
    "<blockquote>\n",
    "La fonction économique doit minimiser le coût de la tournée, on obtient :<br />\n",
    "</blockquote>\n",
    "\n",
    "Soit $\\mu$ un chemin, on obtient donc la longueur d’un chemin, minimiser la longueur du chemin donc minimiser : $\\mathcal{l}(\\mu) = \\sum_{u\\in\\mu} \\mathcal{l}(u)$"
   ]
  },
  {
   "cell_type": "markdown",
   "id": "04af9f8d",
   "metadata": {
    "collapsed": false,
    "pycharm": {
     "name": "#%% md\n"
    }
   },
   "source": [
    "# Génération et traitement de notre graphe\n",
    "\n",
    "Afin de répondre à notre besoin, on génère une matrice carrée d'ordre 1000 (donc 1000 villes).\n",
    "Cette matrice sera la base de tout, elle respecte les contraintes de G. On peut en obtenir le graphe non-complet ci-dessous représentant l’ensemble de nos villes :\n",
    "\n",
    "![](img/matrice1000.png)\n",
    "\n",
    "Puisque c'est difficilement lisible on prendra comme exemple une matrice carrée d'ordre 10 que voici.\n",
    "\n",
    "![](img/matrice10.png)\n",
    "\n",
    "On stocke dans un dictionnaire les informations concernant les voisins d’un sommet et les différents paramètres des arrêtes.\n",
    "Nous utilisons un dictionnaire pour des soucis d’efficacités, cela nous permet de parcourir uniquement le dictionnaire pour avoir les infos.\n"
   ]
  },
  {
   "cell_type": "code",
   "execution_count": null,
   "id": "ef164e83",
   "metadata": {
    "collapsed": false,
    "pycharm": {
     "name": "#%%\n"
    }
   },
   "outputs": [],
   "source": [
    "mon_dico_exemple = {\n",
    "    0: [{'bool_chemin': 1, 'voisin': 3, 'distance': 38, 'vitesse': 130, 'temps': 18, 'consommation': 9.6, 'peage': 5.3, 'cout': 6.6, 'total': 11.9},\n",
    "        {'bool_chemin': 1, 'voisin': 7, 'distance': 38, 'vitesse': 90, 'temps': 25, 'consommation': 8, 'peage': 0, 'cout': 5.5, 'total': 5.5},\n",
    "        {'bool_chemin': 1, 'voisin': 8, 'distance': 47, 'vitesse': 130, 'temps': 22, 'consommation': 9.6, 'peage': 6.1, 'cout': 8.1, 'total': 14.2}]\n",
    "}"
   ]
  },
  {
   "cell_type": "markdown",
   "id": "6404e410",
   "metadata": {
    "collapsed": false,
    "pycharm": {
     "name": "#%% md\n"
    }
   },
   "source": [
    "Ce dico représente les voisins de la ville 0 ainsi que toutes les caractéristiques des différents chemins reliant les sommets.\n",
    "![](img/expication_dico.png)\n",
    "\n",
    "Il faut imaginer un dico respectant ce principe mais à plus grande échelle afin d'obtenir le premier graphe de 1000 villes.\n",
    "\n",
    "En ce qui concerne la tournée, on choisit les points par lesquels on souhaite passer. Une fois choisit, dans le but de mettre notre algorithme génétique dans de meilleurs conditions, on extrait un sous-graphe du graphe principale avec l'aide de djikstra pour obtenir le chemin le plus court pour toutes les combinaisons possible. Cela nous donne le graphe complet ci-dessous:\n",
    "\n",
    "![](img/sous-graphe.png)\n",
    "\n"
   ]
  },
  {
   "cell_type": "markdown",
   "id": "797ae6f5",
   "metadata": {
    "collapsed": false,
    "pycharm": {
     "name": "#%% md\n"
    }
   },
   "source": [
    "# Algorithme génétique\n",
    "\n",
    "L’algorithme génétique est un **algorithme évolutionniste** (faire évoluer notre ensemble de solution afin de trouver le meilleur résultat) il s’inspire de la théorie de l’évolution des espèces.\n",
    "\n",
    "Il va nous permettre de résoudre notre problème d’optimisation dans un temps raisonnable."
   ]
  },
  {
   "cell_type": "markdown",
   "id": "4ed7bb69",
   "metadata": {
    "collapsed": false,
    "pycharm": {
     "name": "#%% md\n"
    }
   },
   "source": [
    "## Etapes\n",
    "\n",
    "On peut diviser en 5 étapes notre algorithme :\n",
    "\n",
    "1. Création d'une population initiale.\n",
    "2. Evaluation de la \"fitness\" (qualité) des individus\n",
    "3. Création de nouveaux individus\n",
    "4. Ajout des nouveaux individus dans la population\n",
    "5. Retour à la seconde étape\n",
    "\n",
    "![algo.jpg](img\\Org_Algo_Gene.png)\n",
    "\n"
   ]
  },
  {
   "cell_type": "markdown",
   "id": "70d86e7f",
   "metadata": {
    "collapsed": false,
    "pycharm": {
     "name": "#%% md\n"
    }
   },
   "source": [
    "### Complexité de l'Algorithme\n",
    "\n",
    "\n",
    "![algo.jpg](img\\algo.jpg)\n",
    "\n"
   ]
  },
  {
   "cell_type": "markdown",
   "id": "81289db5",
   "metadata": {
    "collapsed": false,
    "pycharm": {
     "name": "#%% md\n"
    }
   },
   "source": [
    "## Paramètres\n",
    "\n",
    "Pour utiliser l'algorithme génétique, il nous faut définir :\n",
    "\n",
    "|Paramètre |Variable  | Valeur|\n",
    "|:---|:---:| :---:|\n",
    "|Nombre de ville| N | 5|\n",
    "|Population initiale| D (Dimension)| 10|\n",
    "|Un chromosone de N gènes une solution  | Cp (Chemin parcouru) |Chaque gène = Numéro de la ville|\n",
    "|L'opérateur de croisement | Pc (Probabilité croisement) | 0.8|\n",
    "|L'opérateur de mutation | Pm (Probabilité mutation)| 0.001|\n",
    "|Le nombre de génération. | Ng (Nombre génération)| 50|"
   ]
  },
  {
   "cell_type": "markdown",
   "id": "292c2bcc",
   "metadata": {
    "collapsed": false,
    "pycharm": {
     "name": "#%% md\n"
    }
   },
   "source": [
    "## Définitions\n",
    "\n",
    "### Population\n",
    "\n",
    "La population est un sous-ensemble de toutes les solutions possibles au problème donné. (Dans notre cas tous les chemins possible)\n",
    "\n",
    "### Chromosome\n",
    "\n",
    "Un chromosome est l'une de ces solutions à ce problème actuel. (Un chemin possible)\n",
    "\n",
    "### Gène\n",
    "\n",
    "Chaque chromosone est composé d'un ensemble de gène. (Chaque gène représente une ville)\n",
    "\n",
    "![Schéma explicatif](img\\SchémaAlgo.png)\n",
    "\n"
   ]
  },
  {
   "cell_type": "markdown",
   "id": "1af9f3e5",
   "metadata": {
    "collapsed": false,
    "pycharm": {
     "name": "#%% md\n"
    }
   },
   "source": [
    "### Fitness\n",
    "\n",
    "La fitness représente la qualité de la solution, ici nous devons trouver la distance minimal afin d'effectuer une tournée. <br>\n",
    "La fitness représente donc le chemin parcouru par la solution trouvé."
   ]
  },
  {
   "cell_type": "code",
   "execution_count": 1,
   "id": "e5ef9c3a",
   "metadata": {
    "collapsed": false,
    "pycharm": {
     "name": "#%%\n"
    }
   },
   "outputs": [],
   "source": [
    "def fitness(chromosome):\n",
    "    distance = 0\n",
    "    actuel = 0\n",
    "    dest = 0\n",
    "    for i in range(len(chromosome)):\n",
    "        for j in range(0, 10):\n",
    "            if chromosome[i][j] == 0:\n",
    "                actuel = j\n",
    "            try:\n",
    "                if chromosome[i + 1][j] == 0:\n",
    "                    dest = j\n",
    "                    distance += chromosome[i][dest][1]\n",
    "            except:\n",
    "                pass\n",
    "    return distance"
   ]
  },
  {
   "cell_type": "markdown",
   "id": "bbb97c56",
   "metadata": {
    "collapsed": false,
    "pycharm": {
     "name": "#%% md\n"
    }
   },
   "source": [
    "### Croisement\n",
    "\n",
    "Le croisement permet de fusionner deux parents (Chromosome) afin de créer un ou deux enfant. <br>\n",
    "Nous utilisons dans notre programme un croisement en un point. (Voir le schema suivant)\n",
    "\n",
    "![Crossover](img\\AlgoGene_crossover.png)\n",
    "\n"
   ]
  },
  {
   "cell_type": "code",
   "execution_count": 2,
   "id": "494f48e6",
   "metadata": {
    "collapsed": false,
    "pycharm": {
     "name": "#%%\n"
    }
   },
   "outputs": [],
   "source": [
    "from dis import dis\n",
    "from itertools import starmap\n",
    "import time\n",
    "from turtle import distance\n",
    "import numpy as np\n",
    "from random import randint, randrange\n",
    "import random\n",
    "from numpy.random import choice\n",
    "import copy\n",
    "import networkx as nx\n",
    "import matplotlib.pyplot as plt\n",
    "import csv"
   ]
  },
  {
   "cell_type": "markdown",
   "id": "2aef2060",
   "metadata": {
    "collapsed": false,
    "pycharm": {
     "name": "#%% md\n"
    }
   },
   "source": [
    "### Mutation\n",
    "\n",
    "La mutation permet d'apporter de la diversité au chromosone en lui changeant un ou plusieurs gène. <br>\n",
    "Nous utilisons deux types de mutation avec un pourcentage de chance 50 % chacun : <br>\n",
    "\n",
    "- Swap Bit mutation : Echange de deux ville dans le chromosone.\n",
    "\n",
    "  ![Swap Bit](img\\AlgoGen_SwapBit.png)\n",
    "\n",
    "- Mutation inverse : Inversement de deux ville.\n",
    "\n",
    "  ![Inverse Mutation](img\\AlgoGen_inverseMutation.png)\n"
   ]
  },
  {
   "cell_type": "code",
   "execution_count": 3,
   "id": "5b7b5dec",
   "metadata": {
    "collapsed": false,
    "pycharm": {
     "name": "#%%\n"
    }
   },
   "outputs": [],
   "source": [
    "def mutation(chromosone, probMutation, nbVille):\n",
    "    if probMutation > random.randint(0, 100):\n",
    "        firstGene = random.randint(0, nbVille)\n",
    "        secondGene = random.randint(0, nbVille)\n",
    "        chromosone[firstGene], chromosone[secondGene] = chromosone[secondGene], chromosone[firstGene]\n"
   ]
  },
  {
   "cell_type": "code",
   "execution_count": 4,
   "id": "a8d8c609",
   "metadata": {
    "collapsed": false,
    "pycharm": {
     "name": "#%%\n"
    }
   },
   "outputs": [],
   "source": [
    "N = 5\n",
    "D = 1000\n",
    "Cp = []\n",
    "Pc = 0.8\n",
    "Pm = 0.001\n",
    "Ng = 50"
   ]
  },
  {
   "cell_type": "code",
   "execution_count": 5,
   "id": "f6fb46a3",
   "metadata": {
    "collapsed": false,
    "pycharm": {
     "name": "#%%\n"
    }
   },
   "outputs": [],
   "source": [
    "# on génère une matrice vide\n",
    "def generate_matrice(M, N):\n",
    "    matrice = []\n",
    "    for i in range(M):\n",
    "        line = []\n",
    "        for j in range(N):\n",
    "            line.append(0)\n",
    "        matrice.append(line)\n",
    "    return matrice"
   ]
  },
  {
   "cell_type": "code",
   "execution_count": 44,
   "id": "a41c8558",
   "metadata": {
    "collapsed": false,
    "pycharm": {
     "name": "#%%\n"
    }
   },
   "outputs": [],
   "source": [
    "# on créer la structure des champs qui vont composer notre matrice\n",
    "def field(matrice, i, j):\n",
    "    inf = 1\n",
    "    sup = 50\n",
    "    _cost_essence = 1.80\n",
    "\n",
    "    field = []\n",
    "    km = (70, 80, 90, 110, 130)\n",
    "    dist = randint(inf, sup)\n",
    "    velocity = random.choice(km)\n",
    "    time = round((dist / velocity) * 60)\n",
    "    conso = 8\n",
    "    peage_cost = 0\n",
    "    if velocity == 130:\n",
    "        conso += conso * 0.2\n",
    "        peage_cost += round((1.9 + 4.5 * (dist / sup)), 1)\n",
    "    elif velocity == 110:\n",
    "        conso += conso * 0.15\n",
    "    price_essence = round((((dist * conso) / 100) * _cost_essence), 1)\n",
    "    total_price = round((peage_cost + price_essence), 1)\n",
    "    field.append(1)\n",
    "    field.append(dist)\n",
    "    field.append(velocity)  #supprimer\n",
    "    field.append(time)\n",
    "    field.append(conso)\n",
    "    field.append(peage_cost)\n",
    "    field.append(price_essence)\n",
    "    field.append(total_price)\n",
    "    # on renseigne ensuite le champs pour avoir la chemin entre les deux villes\n",
    "    matrice[i][j] = field\n",
    "    matrice[j][i] = field"
   ]
  },
  {
   "cell_type": "code",
   "execution_count": 45,
   "id": "004b2009",
   "metadata": {
    "collapsed": false,
    "pycharm": {
     "name": "#%%\n"
    }
   },
   "outputs": [],
   "source": [
    "# on complète la matrice en générant deux champs pour chaque ville\n",
    "def complete_matrice(matrice, M):\n",
    "    for i in range(M):\n",
    "        _nb_element = 2\n",
    "        _element = random.sample(range(M), _nb_element)\n",
    "        try:\n",
    "            for j in _element:\n",
    "                if i != j:\n",
    "                    field(matrice, i, j)\n",
    "        except:\n",
    "            _element = []\n",
    "            _element = random.sample(range(M), _nb_element)\n",
    "        finally:\n",
    "            for j in _element:\n",
    "                if i != j:\n",
    "                    field(matrice, i, j)\n",
    "        _element = []\n",
    "    return matrice"
   ]
  },
  {
   "cell_type": "code",
   "execution_count": 46,
   "id": "63410562",
   "metadata": {
    "collapsed": false,
    "pycharm": {
     "name": "#%%\n"
    }
   },
   "outputs": [],
   "source": [
    "def organize_matrice(matrice):\n",
    "    for i in range(0, len(matrice)):\n",
    "        for j in range(i + 1, len(matrice)):\n",
    "            matrice[j][i] = matrice[i][j]"
   ]
  },
  {
   "cell_type": "code",
   "execution_count": 47,
   "id": "d42e54e1",
   "metadata": {
    "collapsed": false,
    "pycharm": {
     "name": "#%%\n"
    }
   },
   "outputs": [],
   "source": [
    "def info_matrice(matrice):\n",
    "    _map = {}\n",
    "    _list = []\n",
    "\n",
    "    dico = {\n",
    "        \"bool_chemin\": None,\n",
    "        \"voisin\": None,\n",
    "        \"distance\": None,\n",
    "        \"vitesse\": None,  # supprimer\n",
    "        \"temps\": None,\n",
    "        \"consommation\": None,\n",
    "        \"peage\": None,\n",
    "        \"cout\": None,\n",
    "        \"total\": None\n",
    "    }\n",
    "\n",
    "    for i in range(0, len(matrice)):\n",
    "        _list.clear()\n",
    "        for j in range(0, len(matrice)):\n",
    "            if matrice[i][j] != 0:\n",
    "                dico[\"bool_chemin\"] = matrice[i][j][0]\n",
    "                dico[\"voisin\"] = j\n",
    "                dico[\"distance\"] = matrice[i][j][1]\n",
    "                dico[\"vitesse\"] = matrice[i][j][2]\n",
    "                dico[\"temps\"] = matrice[i][j][3]\n",
    "                dico[\"consommation\"] = matrice[i][j][4]\n",
    "                dico[\"peage\"] = matrice[i][j][5]\n",
    "                dico[\"cout\"] = matrice[i][j][6]\n",
    "                dico[\"total\"] = matrice[i][j][7]\n",
    "                _list.append(copy.deepcopy(dico))\n",
    "        _map[i] = copy.deepcopy(_list)\n",
    "    return _map"
   ]
  },
  {
   "cell_type": "markdown",
   "id": "af350d23",
   "metadata": {
    "collapsed": false,
    "pycharm": {
     "name": "#%% md\n"
    }
   },
   "source": [
    "### Mutation\n",
    "\n",
    "La mutation permet d'apporter de la diversité au chromosone en lui changeant un ou plusieurs gène. <br>\n",
    "Nous utilisons deux types de mutation avec un pourcentage de chance 50 % chacun : <br>\n",
    "\n",
    "- Swap Bit mutation : Echange de deux ville dans le chromosone.\n",
    "\n",
    "  ![Swap Bit](img\\AlgoGen_SwapBit.png)\n",
    "\n",
    "- Mutation inverse : Inversement de deux ville.\n",
    "\n",
    "  ![Inverse Mutation](img\\AlgoGen_inverseMutation.png)\n"
   ]
  },
  {
   "cell_type": "code",
   "execution_count": 48,
   "id": "73cdd0d4",
   "metadata": {
    "collapsed": false,
    "pycharm": {
     "name": "#%%\n"
    }
   },
   "outputs": [],
   "source": [
    "def mutation(chromosone, probMutation, nbVille):\n",
    "    if probMutation > random.randint(0, 100):\n",
    "        firstGene = random.randint(0, nbVille)\n",
    "        secondGene = random.randint(0, nbVille)\n",
    "        chromosone[firstGene], chromosone[secondGene] = chromosone[secondGene], chromosone[firstGene]\n"
   ]
  },
  {
   "cell_type": "code",
   "execution_count": 49,
   "id": "2ed85e43",
   "metadata": {
    "collapsed": false,
    "pycharm": {
     "name": "#%%\n"
    }
   },
   "outputs": [],
   "source": [
    "N = 5\n",
    "D = 1000\n",
    "Cp = []\n",
    "Pc = 0.8\n",
    "Pm = 0.001\n",
    "Ng = 50"
   ]
  },
  {
   "cell_type": "code",
   "execution_count": 50,
   "id": "f0bd6aab",
   "metadata": {
    "collapsed": false,
    "pycharm": {
     "name": "#%%\n"
    }
   },
   "outputs": [],
   "source": [
    "# on génère une matrice vide\n",
    "def generate_matrice(M, N):\n",
    "    matrice = []\n",
    "    for i in range(M):\n",
    "        line = []\n",
    "        for j in range(N):\n",
    "            line.append(0)\n",
    "        matrice.append(line)\n",
    "    return matrice"
   ]
  },
  {
   "cell_type": "code",
   "execution_count": 51,
   "id": "70b81ce7",
   "metadata": {
    "collapsed": false,
    "pycharm": {
     "name": "#%%\n"
    }
   },
   "outputs": [],
   "source": [
    "# on créer la structure des champs qui vont composer notre matrice\n",
    "def field(matrice, i, j):\n",
    "    inf = 1\n",
    "    sup = 50\n",
    "    _cost_essence = 1.80\n",
    "\n",
    "    field = []\n",
    "    km = (70, 80, 90, 110, 130)\n",
    "    dist = randint(inf, sup)\n",
    "    velocity = random.choice(km)\n",
    "    time = round((dist / velocity) * 60)\n",
    "    conso = 8\n",
    "    peage_cost = 0\n",
    "    if velocity == 130:\n",
    "        conso += conso * 0.2\n",
    "        peage_cost += round((1.9 + 4.5 * (dist / sup)), 1)\n",
    "    elif velocity == 110:\n",
    "        conso += conso * 0.15\n",
    "    price_essence = round((((dist * conso) / 100) * _cost_essence), 1)\n",
    "    total_price = round((peage_cost + price_essence), 1)\n",
    "    field.append(1)\n",
    "    field.append(dist)\n",
    "    field.append(velocity)  #supprimer\n",
    "    field.append(time)\n",
    "    field.append(conso)\n",
    "    field.append(peage_cost)\n",
    "    field.append(price_essence)\n",
    "    field.append(total_price)\n",
    "    # on renseigne ensuite le champs pour avoir la chemin entre les deux villes\n",
    "    matrice[i][j] = field\n",
    "    matrice[j][i] = field"
   ]
  },
  {
   "cell_type": "code",
   "execution_count": 52,
   "id": "3d82300c",
   "metadata": {
    "collapsed": false,
    "pycharm": {
     "name": "#%%\n"
    }
   },
   "outputs": [],
   "source": [
    "# on complète la matrice en générant deux champs pour chaque ville\n",
    "def complete_matrice(matrice, M):\n",
    "    for i in range(M):\n",
    "        _nb_element = 2\n",
    "        _element = random.sample(range(M), _nb_element)\n",
    "        try:\n",
    "            for j in _element:\n",
    "                if i != j:\n",
    "                    field(matrice, i, j)\n",
    "        except:\n",
    "            _element = []\n",
    "            _element = random.sample(range(M), _nb_element)\n",
    "        finally:\n",
    "            for j in _element:\n",
    "                if i != j:\n",
    "                    field(matrice, i, j)\n",
    "        _element = []\n",
    "    return matrice"
   ]
  },
  {
   "cell_type": "code",
   "execution_count": 53,
   "id": "c5d464b4",
   "metadata": {
    "collapsed": false,
    "pycharm": {
     "name": "#%%\n"
    }
   },
   "outputs": [],
   "source": [
    "def organize_matrice(matrice):\n",
    "    for i in range(0, len(matrice)):\n",
    "        for j in range(i + 1, len(matrice)):\n",
    "            matrice[j][i] = matrice[i][j]"
   ]
  },
  {
   "cell_type": "code",
   "execution_count": 54,
   "id": "3b4ecb68",
   "metadata": {
    "collapsed": false,
    "pycharm": {
     "name": "#%%\n"
    }
   },
   "outputs": [],
   "source": [
    "def info_matrice(matrice):\n",
    "    _map = {}\n",
    "    _list = []\n",
    "\n",
    "    dico = {\n",
    "        \"bool_chemin\": None,\n",
    "        \"voisin\": None,\n",
    "        \"distance\": None,\n",
    "        \"vitesse\": None,  # supprimer\n",
    "        \"temps\": None,\n",
    "        \"consommation\": None,\n",
    "        \"peage\": None,\n",
    "        \"cout\": None,\n",
    "        \"total\": None\n",
    "    }\n",
    "\n",
    "    for i in range(0, len(matrice)):\n",
    "        _list.clear()\n",
    "        for j in range(0, len(matrice)):\n",
    "            if matrice[i][j] != 0:\n",
    "                dico[\"bool_chemin\"] = matrice[i][j][0]\n",
    "                dico[\"voisin\"] = j\n",
    "                dico[\"distance\"] = matrice[i][j][1]\n",
    "                dico[\"vitesse\"] = matrice[i][j][2]\n",
    "                dico[\"temps\"] = matrice[i][j][3]\n",
    "                dico[\"consommation\"] = matrice[i][j][4]\n",
    "                dico[\"peage\"] = matrice[i][j][5]\n",
    "                dico[\"cout\"] = matrice[i][j][6]\n",
    "                dico[\"total\"] = matrice[i][j][7]\n",
    "                _list.append(copy.deepcopy(dico))\n",
    "        _map[i] = copy.deepcopy(_list)\n",
    "    return _map"
   ]
  },
  {
   "cell_type": "code",
   "execution_count": 55,
   "id": "75dfcfe8",
   "metadata": {
    "collapsed": false,
    "pycharm": {
     "name": "#%%\n"
    }
   },
   "outputs": [],
   "source": [
    "def affiche_matrice(matrice):\n",
    "    for line in matrice:\n",
    "        print(line)"
   ]
  },
  {
   "cell_type": "code",
   "execution_count": 56,
   "id": "456fd724",
   "metadata": {
    "collapsed": false,
    "pycharm": {
     "name": "#%%\n"
    }
   },
   "outputs": [],
   "source": [
    "class GraphVisualization:\n",
    "\n",
    "    def __init__(self):\n",
    "        # visual is a list which stores all\n",
    "        # the set of edges that constitutes a\n",
    "        # graph\n",
    "        self.visual = []\n",
    "\n",
    "    # addEdge function inputs the vertices of an\n",
    "    # edge and appends it to the visual list\n",
    "    def addEdge(self, a, b):\n",
    "        temp = [a, b]\n",
    "        self.visual.append(temp)\n",
    "\n",
    "    # In visualize function G is an object of\n",
    "    # class Graph given by networkx G.add_edges_from(visual)\n",
    "    # creates a graph with a given list\n",
    "    # nx.draw_networkx(G) - plots the graph\n",
    "    # plt.show() - displays the graph\n",
    "    def visualize(self):\n",
    "        G = nx.Graph()\n",
    "        G.add_edges_from(self.visual)\n",
    "        nx.draw_networkx(G)\n",
    "        plt.show()\n",
    "\n",
    "\n",
    "# Calcul voisins\n",
    "def voisinsSommetGrapheMatrice(matrice, sommet):\n",
    "    liste = matrice[sommet]\n",
    "    voisins = [i for i, value in enumerate(liste) if liste[i] != 0]\n",
    "    return voisins"
   ]
  },
  {
   "cell_type": "code",
   "execution_count": 57,
   "id": "e363f6b9",
   "metadata": {
    "collapsed": false,
    "pycharm": {
     "name": "#%%\n"
    }
   },
   "outputs": [
    {
     "name": "stderr",
     "output_type": "stream",
     "text": [
      "IOPub data rate exceeded.\n",
      "The notebook server will temporarily stop sending output\n",
      "to the client in order to avoid crashing it.\n",
      "To change this limit, set the config variable\n",
      "`--NotebookApp.iopub_data_rate_limit`.\n",
      "\n",
      "Current values:\n",
      "NotebookApp.iopub_data_rate_limit=1000000.0 (bytes/sec)\n",
      "NotebookApp.rate_limit_window=3.0 (secs)\n",
      "\n"
     ]
    },
    {
     "data": {
      "image/png": "[encoded data removed]",
      "text/plain": [
       "<Figure size 432x288 with 1 Axes>"
      ]
     },
     "metadata": {},
     "output_type": "display_data"
    }
   ],
   "source": [
    "matrice = generate_matrice(1000, 1000)\n",
    "complete_matrice(matrice, 1000)\n",
    "organize_matrice(matrice)\n",
    "affiche_matrice(matrice)\n",
    "dico = info_matrice(matrice)\n",
    "\n",
    "print(dico)\n",
    "\n",
    "# Code\n",
    "G = GraphVisualization()\n",
    "\n",
    "for sommet in range(len(matrice)):\n",
    "    voisins = voisinsSommetGrapheMatrice(matrice, sommet)  # on procède en deux temps, car\n",
    "    print(\"sommet\", str(sommet), \":\", str([v for v in voisins]))  # les indices commencent à 0\n",
    "    for v in voisins:\n",
    "        G.addEdge(sommet, v)\n",
    "\n",
    "G.visualize()"
   ]
  },
  {
   "cell_type": "markdown",
   "id": "95f5fc07",
   "metadata": {
    "collapsed": false,
    "pycharm": {
     "name": "#%% md\n"
    }
   },
   "source": [
    "### Notes et réfèrences\n",
    "\n",
    "[Théorie des graphes](https://moodle-ingenieurs.cesi.fr/pluginfile.php/495242/mod_resource/content/4/res/ressources_TI_-_graphes.pdf)\n",
    "\n",
    "[Algorithme évolutionniste](https://fr.wikipedia.org/wiki/Algorithme_évolutionniste)\n",
    "\n",
    "[Choix de l'algorithme](https://www.researchgate.net/publication/312889331_Choice_of_best_possible_metaheuristic_algorithm_for_the_travelling_salesman_problem_with_limited_computational_time_Quality_uncertainty_and_speed)\n"
   ]
  }
 ],
 "metadata": {
  "kernelspec": {
   "display_name": "algo_env",
   "language": "python",
   "name": "algo_env"
  },
  "language_info": {
   "codemirror_mode": {
    "name": "ipython",
    "version": 3
   },
   "file_extension": ".py",
   "mimetype": "text/x-python",
   "name": "python",
   "nbconvert_exporter": "python",
   "pygments_lexer": "ipython3",
   "version": "3.9.12"
  },
  "vscode": {
   "interpreter": {
    "hash": "ad2bdc8ecc057115af97d19610ffacc2b4e99fae6737bb82f5d7fb13d2f2c186"
   }
  }
 },
 "nbformat": 4,
 "nbformat_minor": 5
}
