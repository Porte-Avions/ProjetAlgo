{
 "cells": [
  {
   "cell_type": "markdown",
   "source": [],
   "metadata": {
    "collapsed": false,
    "pycharm": {
     "name": "#%% md\n"
    }
   }
  },
  {
   "cell_type": "markdown",
   "source": [
    "# <center>Projet Algorithmique</center>\n"
   ],
   "metadata": {
    "collapsed": false,
    "pycharm": {
     "name": "#%% md\n"
    }
   }
  },
  {
   "cell_type": "markdown",
   "source": [
    "### Version de base\n",
    "\n",
    "Le choix du modèle et le code en Python capable de résoudre des instances de taille importante (plusieurs milliers de villes)\n",
    "\n",
    "Une étude statistique du comportement expérimental de l'algorithme\n",
    "\n"
   ],
   "metadata": {
    "collapsed": false,
    "pycharm": {
     "name": "#%% md\n"
    }
   }
  },
  {
   "cell_type": "markdown",
   "source": [
    "## La tournée des villes :\n",
    "\n",
    "La tournée se représente sous forme de graphe.\n",
    "On a décidé de représenter les villes par des points et\n",
    "Ce graphe est pondéré où chaque point représente une ville et le poids de chaque arête correspond à une route.\n",
    "\n",
    "    Mettre un graphe\n",
    "\n",
    "Ce graphe est connexe car chaque ville est au minimum relié à une autre ville par une route.\n",
    "Il est aussi incomplet car toutes les villes ne sont pas reliées directement entre elles.\n",
    "Le graphe est non orienté, il n'y a donc pas de sens unique dans le parcours.\n",
    "\n"
   ],
   "metadata": {
    "collapsed": false,
    "pycharm": {
     "name": "#%% md\n"
    }
   }
  },
  {
   "cell_type": "markdown",
   "source": [
    "# Représentation formelle\n",
    "\n",
    "---\n",
    "\n",
    "<aside>\n",
    "💡 On considère pour la suite :\n",
    "\n",
    "<br>\n",
    "\n",
    "Le graphe pondéré non orienté $G = (X, A, \\mathcal{G})$ avec X l’ensemble des sommets tel que $x \\in X$ est appelé sommet.\n",
    "\n",
    "A une partie de $X\\times X$, l’ensemble des arrêtes tel que : $\\overline{u} \\in \\rm A$ où $\\overline{u}$ est une arrête de G.\n",
    "\n",
    "On considère l’application $\\mathcal{l}: A \\to \\mathbb{N}$ renvoyant la longueure (en mètre) d’une arrête de $A$.\n",
    "\n",
    "On considère l’application $\\mathcal{p}: A \\to \\mathbb{N}$ renvoyant le coût (en €) d’une arrête de $A$.\n",
    "\n",
    "On considère l’application $\\mathcal{deg}: X \\to \\mathbb{N}$ renvoyant le degrès d’un sommet de X.\n",
    "\n",
    "On supposera:\n",
    "\n",
    "- $G$ connexe\n",
    "- Sans puits $\\leftrightarrow \\forall x \\in X, deg(x) > 1$\n",
    "- Sans boucle $\\leftrightarrow \\forall \\overline{u} \\in A, \\forall x \\in X, \\nexists \\overline{u} = (x,x)$\n",
    "- $G$ non complet (pour être réaliste)\n",
    "\n"
   ],
   "metadata": {
    "collapsed": false,
    "pycharm": {
     "name": "#%% md\n"
    }
   }
  },
  {
   "cell_type": "markdown",
   "source": [
    "## Des routes :\n",
    "\n",
    "Sur le graphe chaque arête représente une route.\n",
    "\n",
    "Le graphe étant pondéré, le poids de chaque route correspond au temps qu’il faut pour la parcourir en tenant compte du trafic et de toute autre contrainte pouvant influencer sur le temps.\n"
   ],
   "metadata": {
    "collapsed": false,
    "pycharm": {
     "name": "#%% md\n"
    }
   }
  },
  {
   "cell_type": "markdown",
   "source": [
    "## Du problème\n",
    "\n",
    "---\n",
    "\n",
    "Le problème consiste à trouver le chemin de plus courte durée pour réaliser la tournée d’un ensemble de ville. Entre autres, à partir d’un graphe il faut partir d’un point A, parcourir l’ensemble des points du graphe, et revenir à ce même point A en un minimum de temps possible. De plus, il faut pouvoir minimiser la durée totale de la tournée en tenant compte du trafic sur chaque route mais aussi de toute autre contrainte pouvant nous faire perdre du temps.\n",
    "\n"
   ],
   "metadata": {
    "collapsed": false,
    "pycharm": {
     "name": "#%% md\n"
    }
   }
  },
  {
   "cell_type": "markdown",
   "source": [
    "### De l’objectif à optimiser\n",
    "\n",
    "---\n",
    "\n",
    "## Données :\n",
    "\n",
    "- Le graphe G\n",
    "- Une liste $L$ de sommets appartenant à G\n",
    "- Un point de départ D\n"
   ],
   "metadata": {
    "collapsed": false,
    "pycharm": {
     "name": "#%% md\n"
    }
   }
  },
  {
   "cell_type": "markdown",
   "source": [
    "## Problème\n",
    "\n",
    "Existe-t-il une tournée passant au moins une fois par chacune de nos villes de _G_ et dont le temps de la tournée est minimal ?\n",
    "\n",
    "Soit $\\mu$ un chemin, on obtient donc la longueur d’un chemin $\\mathcal{l}(\\mu) = \\sum_{u\\in\\mu} \\mathcal{l}(u)$\n",
    "\n",
    "Le but est donc de minimiser $\\mathcal{l}(\\mu)$\n",
    "\n",
    "<aside>\n",
    "<br>\n",
    "\n",
    "⚠️ **Contraintes :** <br>\n",
    "\n",
    "- **Temps supplémentaire avec le traffic:**\n",
    "  Le temps de parcours d’une arête varie au cours du temps pour représenter la variation du trafic. Un coefficient sera ajouté au temps de trajet de la route\n",
    "\n",
    "</aside>\n",
    "\n"
   ],
   "metadata": {
    "collapsed": false,
    "pycharm": {
     "name": "#%% md\n"
    }
   }
  },
  {
   "cell_type": "markdown",
   "source": [
    "# Complexité théorique du problème\n",
    "\n",
    "---\n",
    "\n",
    "Pour réaliser la tournée, nous devons trouver un algorithme afin de trouver un cycle hamiltonien (Tournée plus retours au point de départ).\n",
    "\n",
    "Nous avons choisi de réduire notre problème au problème du **_Voyageur de commerce_**\n",
    "\n",
    "> Il s’agit d’un problème d'optimisation qui consiste à déterminer, étant donné une liste de villes et les distances entre toutes les paires de villes, le plus court circuit qui passe par chaque ville une et une seule fois.\n",
    "\n",
    "Malgré la simplicité de l’énoncé, on ne connaît pas d'algorithme permettant de trouver une solution exacte rapidement dans tous les cas. Plus précisément, on ne connaît pas d'algorithme en temps polynomial, et la version décisionnelle du problème du voyageur de commerce\n",
    "\n",
    "Le voyageur du commerce souhaite répondre à la question suivante : Pour une distance D, existe-t-il un chemin plus court que D passant par toutes les villes et qui termine dans la ville de départ ?\n",
    "\n",
    "Ce problème d’optimisation est un problème NP-complet, ce qui est un indice de sa difficulté.\n",
    "\n",
    "Pour montrer que le problème du voyageur de commerce est NP-Complet, il faut d’abord montrer qu’il est NP-Difficile. Pour cela nous allons faire une réduction à partir du problème de Cycle Hamiltonien qui, nous le savons déjà, est NP-Complet.\n",
    "\n",
    "Nous allons donc transformer, en temps polynomial, une instance du Cycle Hamiltonien en instance du Voyageur de Commerce, de façon que les deux instances admettent la même réponse.\n",
    "</br>\n",
    "$\\forall\\:problèmes\\,p, \\;p \\in \\mathcal{NP}-complet \\leftrightarrow p \\in \\mathcal{NP}-Difficile\\, \\cap \\mathcal{NP}$\n",
    "\n"
   ],
   "metadata": {
    "collapsed": false,
    "pycharm": {
     "name": "#%% md\n"
    }
   }
  },
  {
   "cell_type": "markdown",
   "source": [
    "### Exemple du voyageur de commerce:\n",
    "\n",
    "Vérification de l’appartenance à NP\n",
    "\n",
    "Le problème est dans NP car étant donné une suite de sommets, on peut vérifier en temps polynomial (plus précisément en temps linéaire) si c’est un circuit, s’il passe au moins une fois par chaque sommet, et si son coût est inférieur à _k_.\n",
    "\n",
    "Vérification de l’appartenance à NP-Difficile\n",
    "\n",
    "Voyageur de Commerce considère un graphe complet arête-valué, mais qu'il autorise à passer plusieurs fois par certains sommets, du moment que le circuit total est de taille inférieure à _k_ (on considère le problème de décision sur lequel est basé le problème d'optimisation, _k_ est donc un paramètre d'entrée).\n",
    "\n",
    "L'idée générale de cette réduction polynomiale est de construire l’instance de Cycle Hamiltonien en rajoutant les arêtes manquantes, mais avec une valeur de 2 (et en considérant une valeur de 1 pour les arêtes déjà présentes) de manière à rendre leur usage trop couteux, et en considérant un _k_ correspondant au nombre de sommets (on notera que cette transformation se fait en temps polynomial).\n",
    "\n",
    "![photo.jpg](img\\photo.jpg)\n",
    "\n",
    "De cette manière, si la réponse à l'instance de Voyageur de Commerce est _oui_, on sait que le circuit auquel correspond cette réponse passe une et une seule fois par les sommets du graphe, et n'emprunte que les arêtes du graphe de Cycle Hamiltonien. Tout cycle empruntant une des arêtes manquantes dans Cycle Hamiltonien aurait une taille supérieure à _k_, puisque les autres arêtes qu'on a ajoutées ont une taille supérieure à 1. Idem pour les cycles passant plusieurs fois par un sommet. Donc la réponse pour l'instance de Cycle Hamiltonien est _oui_ aussi. Idem si la réponse est _non_. Puisqu'on est capable de transformer en temps polynomial une instance de Cycle Hamiltonien en instance de Voyageur de Commerce, de manière à conserver la réponse, Voyageur de Commerce est au moins aussi difficile que Cycle Hamiltonien. Comme Cycle Hamiltonien est NP-Difficile, et que Voyageur de Commerce est dans NP, Voyageur de Commerce est NP-Complet.\n",
    "\n"
   ],
   "metadata": {
    "collapsed": false,
    "pycharm": {
     "name": "#%% md\n"
    }
   }
  },
  {
   "cell_type": "markdown",
   "source": [
    "# Problème d’optimisation\n",
    "\n"
   ],
   "metadata": {
    "collapsed": false,
    "pycharm": {
     "name": "#%% md\n"
    }
   }
  },
  {
   "cell_type": "markdown",
   "source": [
    "# Problème d’optimisation"
   ],
   "metadata": {
    "collapsed": false,
    "pycharm": {
     "name": "#%% md\n"
    }
   }
  },
  {
   "cell_type": "markdown",
   "source": [
    "### Variable de décision du programme\n",
    "\n",
    "$\\mu$ qui représente un chemin solutionnant notre problème."
   ],
   "metadata": {
    "collapsed": false,
    "pycharm": {
     "name": "#%% md\n"
    }
   }
  },
  {
   "cell_type": "markdown",
   "source": [
    "### Contraintes du programme\n",
    "\n",
    "Les contraintes sont des conditions sur l'usage des ressources, c'est à dire des conditions que doivent respecter les valeurs des variables de décision pour former une solution _admissible_.\n",
    "\n",
    "<blockquote>\n",
    "Contrainte : Ajouter du temps de trajet lors des heures d’embouteillage\n",
    "\n",
    "$$\n",
    "7\\leq time \\leq 8 \\rightarrow time = time \\times [1.1,2[\n",
    "$$\n",
    "\n",
    "$$\n",
    "12\\leq time \\leq 13 \\rightarrow time = time \\times [1.1,2[\n",
    "$$\n",
    "\n",
    "$$\n",
    "17\\leq time \\leq 18 \\rightarrow time = time \\times [1.1,2[\n",
    "$$\n",
    "\n",
    "Contrainte de non négativité :\n",
    "\n",
    "$$\n",
    "\\mathcal{l}(\\mu)\\space et \\space \\mathcal{p}(\\mu) \\geq 0 ~\\forall \\mu \\in[1, n] \\space avec \\space n\\space la \\space longueur \\space du \\space tableau\n",
    "$$\n",
    "\n",
    "</blockquote>\n",
    "\n"
   ],
   "metadata": {
    "collapsed": false,
    "pycharm": {
     "name": "#%% md\n"
    }
   }
  },
  {
   "cell_type": "markdown",
   "source": [
    "### Fonction économique\n",
    "\n",
    "La fonction économique décrit ce qu'on veut optimiser lors de l'usage de nos ressources. C'est donc une fonction de nos variables de décision, que l'on doit maximiser ou minimiser. Comme pour les contraintes, dans un programme linéaire, cette fonction économique doit être elle-même linéaire.\n",
    "\n",
    "<blockquote>\n",
    "La fonction économique doit minimiser le coût de la tournée, on obtient :<br />\n",
    "</blockquote>\n",
    "\n",
    "Soit $\\mu$ un chemin, on obtient donc la longueur d’un chemin, minimiser la longueur du chemin donc minimiser : $\\mathcal{l}(\\mu) = \\sum_{u\\in\\mu} \\mathcal{l}(u)$"
   ],
   "metadata": {
    "collapsed": false,
    "pycharm": {
     "name": "#%% md\n"
    }
   }
  },
  {
   "cell_type": "markdown",
   "source": [
    "# Génération et traitement de notre graphe\n",
    "\n",
    "Afin de répondre à notre besoin, on génère une matrice carrée d'ordre 1000 (donc 1000 villes).\n",
    "Cette matrice sera la base de tout, elle respecte les contraintes de G. On peut en obtenir le graphe non-complet ci-dessous représentant l’ensemble de nos villes :\n",
    "\n",
    "![](img/matrice1000.png)\n",
    "\n",
    "Puisque c'est difficilement lisible on prendra comme exemple une matrice carrée d'ordre 10 que voici.\n",
    "\n",
    "![](img/matrice10.png)\n",
    "\n",
    "On stocke dans un dictionnaire les informations concernant les voisins d’un sommet et les différents paramètres des arrêtes.\n",
    "Nous utilisons un dictionnaire pour des soucis d’efficacités, cela nous permet de parcourir uniquement le dictionnaire pour avoir les infos.\n"
   ],
   "metadata": {
    "collapsed": false,
    "pycharm": {
     "name": "#%% md\n"
    }
   }
  },
  {
   "cell_type": "code",
   "execution_count": 2,
   "outputs": [
    {
     "ename": "SyntaxError",
     "evalue": "unterminated string literal (detected at line 3) (4238118440.py, line 3)",
     "output_type": "error",
     "traceback": [
      "\u001B[1;36m  Input \u001B[1;32mIn [2]\u001B[1;36m\u001B[0m\n\u001B[1;33m    Afin de répondre à notre besoin, on génère une matrice carrée d'ordre 1000 (donc 1000 villes).\u001B[0m\n\u001B[1;37m                                                                   ^\u001B[0m\n\u001B[1;31mSyntaxError\u001B[0m\u001B[1;31m:\u001B[0m unterminated string literal (detected at line 3)\n"
     ]
    }
   ],
   "source": [
    "mon_dico_exemple = {\n",
    "    0: [{'bool_chemin': 1, 'voisin': 3, 'distance': 38, 'vitesse': 130, 'temps': 18, 'consommation': 9.6, 'peage': 5.3, 'cout': 6.6, 'total': 11.9},\n",
    "        {'bool_chemin': 1, 'voisin': 7, 'distance': 38, 'vitesse': 90, 'temps': 25, 'consommation': 8, 'peage': 0, 'cout': 5.5, 'total': 5.5},\n",
    "        {'bool_chemin': 1, 'voisin': 8, 'distance': 47, 'vitesse': 130, 'temps': 22, 'consommation': 9.6, 'peage': 6.1, 'cout': 8.1, 'total': 14.2}]\n",
    "}"
   ],
   "metadata": {
    "collapsed": false,
    "pycharm": {
     "name": "#%%\n"
    }
   }
  },
  {
   "cell_type": "markdown",
   "source": [
    "Ce dico représente les voisins de la ville 0 ainsi que toutes les caractéristiques des différents chemins reliant les sommets.\n",
    "![](img/expication_dico.png)\n",
    "\n",
    "Il faut imaginer un dico respectant ce principe mais à plus grande échelle afin d'obtenir le premier graphe de 1000 villes.\n",
    "\n",
    "En ce qui concerne la tournée, on choisit les points par lesquels on souhaite passer. Une fois choisit, dans le but de mettre notre algorithme génétique dans de meilleurs conditions, on extrait un sous-graphe du graphe principale avec l'aide de djikstra pour obtenir le chemin le plus court pour toutes les combinaisons possible. Cela nous donne le graphe complet ci-dessous:\n",
    "\n",
    "![](img/sous-graphe.png)\n",
    "\n"
   ],
   "metadata": {
    "collapsed": false,
    "pycharm": {
     "name": "#%% md\n"
    }
   }
  },
  {
   "cell_type": "markdown",
   "source": [
    "Ce dico représente les voisins de la ville 0 ainsi que toutes les caractéristiques des différents chemins reliant les sommets.\n",
    "![](img/expication_dico.png)\n",
    "\n",
    "Il faut imaginer un dico respectant ce principe mais à plus grande échelle afin d'obtenir le premier graphe de 1000 villes.\n",
    "\n",
    "En ce qui concerne la tournée, on choisit les points par lesquels on souhaite passer. Une fois choisit, dans le but de mettre notre algorithme génétique dans de meilleurs conditions, on extrait un sous-graphe du graphe principale avec l'aide de djikstra pour obtenir le chemin le plus court pour toutes les combinaisons possible. Cela nous donne le graphe complet ci-dessous:\n",
    "\n",
    "![](img/sous-graphe.png)\n",
    "\n",
    "Ce graphe est complet car on test toutes les combinaisons possibles.\n",
    "On a choisi de travailler sur un graphe complet afin d'effectuer des mutations plus aisées. Par exemple, en inversant l'ordre de plusieurs sommets, nous garantissons l'existence de la nouvelle solution ainsi créée.\n"
   ],
   "metadata": {
    "collapsed": false,
    "pycharm": {
     "name": "#%% md\n"
    }
   }
  },
  {
   "cell_type": "markdown",
   "source": [
    "## Etapes\n",
    "\n",
    "On peut diviser en 5 étapes notre algorithme :\n",
    "\n",
    "1. Création d'une population initiale.\n",
    "2. Evaluation de la \"fitness\" (qualité) des individus\n",
    "3. Création de nouveaux individus\n",
    "4. Ajout des nouveaux individus dans la population\n",
    "5. Retour à la seconde étape\n",
    "\n",
    "![algo.jpg](img\\Org_Algo_Gene.png)\n",
    "\n"
   ],
   "metadata": {
    "collapsed": false,
    "pycharm": {
     "name": "#%% md\n"
    }
   }
  },
  {
   "cell_type": "markdown",
   "source": [
    "### Complexité de l'Algorithme\n",
    "\n",
    "\n",
    "![algo.jpg](img\\algo.jpg)\n",
    "\n"
   ],
   "metadata": {
    "collapsed": false,
    "pycharm": {
     "name": "#%% md\n"
    }
   }
  },
  {
   "cell_type": "markdown",
   "source": [
    "## Paramètres\n",
    "\n",
    "Pour utiliser l'algorithme génétique, il nous faut définir :\n",
    "\n",
    "|Paramètre |Variable  | Valeur|\n",
    "|:---|:---:| :---:|\n",
    "|Nombre de ville| N | 5|\n",
    "|Population initiale| D (Dimension)| 10|\n",
    "|Un chromosone de N gènes une solution  | Cp (Chemin parcouru) |Chaque gène = Numéro de la ville|\n",
    "|L'opérateur de croisement | Pc (Probabilité croisement) | 0.8|\n",
    "|L'opérateur de mutation | Pm (Probabilité mutation)| 0.001|\n",
    "|Le nombre de génération. | Ng (Nombre génération)| 50|"
   ],
   "metadata": {
    "collapsed": false,
    "pycharm": {
     "name": "#%% md\n"
    }
   }
  },
  {
   "cell_type": "markdown",
   "source": [
    "## Définitions\n",
    "\n",
    "### Population\n",
    "\n",
    "La population est un sous-ensemble de toutes les solutions possibles au problème donné. (Dans notre cas tous les chemins possible)\n",
    "\n",
    "### Chromosome\n",
    "\n",
    "Un chromosome est l'une de ces solutions à ce problème actuel. (Un chemin possible)\n",
    "\n",
    "### Gène\n",
    "\n",
    "Chaque chromosone est composé d'un ensemble de gène. (Chaque gène représente une ville)\n",
    "\n",
    "![Schéma explicatif](img\\SchémaAlgo.png)\n",
    "\n"
   ],
   "metadata": {
    "collapsed": false,
    "pycharm": {
     "name": "#%% md\n"
    }
   }
  },
  {
   "cell_type": "markdown",
   "source": [
    "### Fitness\n",
    "\n",
    "La fitness représente la qualité de la solution, ici nous devons trouver la distance minimal afin d'effectuer une tournée. <br>\n",
    "La fitness représente donc le chemin parcouru par la solution trouvé."
   ],
   "metadata": {
    "collapsed": false,
    "pycharm": {
     "name": "#%% md\n"
    }
   }
  },
  {
   "cell_type": "code",
   "execution_count": null,
   "outputs": [],
   "source": [
    "def fitness(chromosome):\n",
    "    distance = 0\n",
    "    actuel = 0\n",
    "    dest = 0\n",
    "    for i in range(len(chromosome)):\n",
    "        for j in range(0, 10):\n",
    "            if chromosome[i][j] == 0:\n",
    "                actuel = j\n",
    "            try:\n",
    "                if chromosome[i + 1][j] == 0:\n",
    "                    dest = j\n",
    "                    distance += chromosome[i][dest][1]\n",
    "            except:\n",
    "                pass\n",
    "    return distance"
   ],
   "metadata": {
    "collapsed": false,
    "pycharm": {
     "name": "#%%\n"
    }
   }
  },
  {
   "cell_type": "markdown",
   "source": [
    "### Croisement\n",
    "\n",
    "Le croisement permet de fusionner deux parents (Chromosome) afin de créer un ou deux enfant. <br>\n",
    "Nous utilisons dans notre programme un croisement en un point. (Voir le schema suivant)\n",
    "\n",
    "![Crossover](img\\AlgoGene_crossover.png)\n",
    "\n"
   ],
   "metadata": {
    "collapsed": false,
    "pycharm": {
     "name": "#%% md\n"
    }
   }
  },
  {
   "cell_type": "code",
   "execution_count": 3,
   "outputs": [
    {
     "ename": "SyntaxError",
     "evalue": "invalid syntax. Perhaps you forgot a comma? (2348531835.py, line 3)",
     "output_type": "error",
     "traceback": [
      "\u001B[1;36m  Input \u001B[1;32mIn [3]\u001B[1;36m\u001B[0m\n\u001B[1;33m    Le croisement permet de fusionner deux parents (Chromosome) afin de créer un ou deux enfant. <br>\u001B[0m\n\u001B[1;37m                                           ^\u001B[0m\n\u001B[1;31mSyntaxError\u001B[0m\u001B[1;31m:\u001B[0m invalid syntax. Perhaps you forgot a comma?\n"
     ]
    }
   ],
   "source": [
    "from dis import dis\n",
    "from itertools import starmap\n",
    "import time\n",
    "from turtle import distance\n",
    "import numpy as np\n",
    "from random import randint, randrange\n",
    "import random\n",
    "from numpy.random import choice\n",
    "import copy\n",
    "import networkx as nx\n",
    "import matplotlib.pyplot as plt\n",
    "import csv"
   ],
   "metadata": {
    "collapsed": false,
    "pycharm": {
     "name": "#%%\n"
    }
   }
  },
  {
   "cell_type": "markdown",
   "source": [
    "### Mutation\n",
    "\n",
    "La mutation permet d'apporter de la diversité au chromosone en lui changeant un ou plusieurs gène. <br>\n",
    "Nous utilisons deux types de mutation avec un pourcentage de chance 50 % chacun : <br>\n",
    "\n",
    "- Swap Bit mutation : Echange de deux ville dans le chromosone.\n",
    "\n",
    "  ![Swap Bit](img\\AlgoGen_SwapBit.png)\n",
    "\n",
    "- Mutation inverse : Inversement de deux ville.\n",
    "\n",
    "  ![Inverse Mutation](img\\AlgoGen_inverseMutation.png)\n"
   ],
   "metadata": {
    "collapsed": false,
    "pycharm": {
     "name": "#%% md\n"
    }
   }
  },
  {
   "cell_type": "code",
   "execution_count": 4,
   "outputs": [
    {
     "ename": "SyntaxError",
     "evalue": "unterminated string literal (detected at line 3) (627659510.py, line 3)",
     "output_type": "error",
     "traceback": [
      "\u001B[1;36m  Input \u001B[1;32mIn [4]\u001B[1;36m\u001B[0m\n\u001B[1;33m    La mutation permet d'apporter de la diversité au chromosone en lui changeant un ou plusieurs gène. <br>\u001B[0m\n\u001B[1;37m                        ^\u001B[0m\n\u001B[1;31mSyntaxError\u001B[0m\u001B[1;31m:\u001B[0m unterminated string literal (detected at line 3)\n"
     ]
    }
   ],
   "source": [
    "def mutation(chromosone, probMutation, nbVille):\n",
    "    if probMutation > random.randint(0, 100):\n",
    "        firstGene = random.randint(0, nbVille)\n",
    "        secondGene = random.randint(0, nbVille)\n",
    "        chromosone[firstGene], chromosone[secondGene] = chromosone[secondGene], chromosone[firstGene]\n"
   ],
   "metadata": {
    "collapsed": false,
    "pycharm": {
     "name": "#%%\n"
    }
   }
  },
  {
   "cell_type": "code",
   "execution_count": null,
   "outputs": [],
   "source": [
    "N = 5\n",
    "D = 1000\n",
    "Cp = []\n",
    "Pc = 0.8\n",
    "Pm = 0.001\n",
    "Ng = 50"
   ],
   "metadata": {
    "collapsed": false,
    "pycharm": {
     "name": "#%%\n"
    }
   }
  },
  {
   "cell_type": "code",
   "execution_count": null,
   "outputs": [],
   "source": [
    "# on génère une matrice vide\n",
    "def generate_matrice(M, N):\n",
    "    matrice = []\n",
    "    for i in range(M):\n",
    "        line = []\n",
    "        for j in range(N):\n",
    "            line.append(0)\n",
    "        matrice.append(line)\n",
    "    return matrice"
   ],
   "metadata": {
    "collapsed": false,
    "pycharm": {
     "name": "#%%\n"
    }
   }
  },
  {
   "cell_type": "code",
   "execution_count": null,
   "outputs": [],
   "source": [
    "# on créer la structure des champs qui vont composer notre matrice\n",
    "def field(matrice, i, j):\n",
    "    inf = 1\n",
    "    sup = 50\n",
    "    _cost_essence = 1.80\n",
    "\n",
    "    field = []\n",
    "    km = (70, 80, 90, 110, 130)\n",
    "    dist = randint(inf, sup)\n",
    "    velocity = random.choice(km)\n",
    "    time = round((dist / velocity) * 60)\n",
    "    conso = 8\n",
    "    peage_cost = 0\n",
    "    if velocity == 130:\n",
    "        conso += conso * 0.2\n",
    "        peage_cost += round((1.9 + 4.5 * (dist / sup)), 1)\n",
    "    elif velocity == 110:\n",
    "        conso += conso * 0.15\n",
    "    price_essence = round((((dist * conso) / 100) * _cost_essence), 1)\n",
    "    total_price = round((peage_cost + price_essence), 1)\n",
    "    field.append(1)\n",
    "    field.append(dist)\n",
    "    field.append(velocity)  #supprimer\n",
    "    field.append(time)\n",
    "    field.append(conso)\n",
    "    field.append(peage_cost)\n",
    "    field.append(price_essence)\n",
    "    field.append(total_price)\n",
    "    # on renseigne ensuite le champs pour avoir la chemin entre les deux villes\n",
    "    matrice[i][j] = field\n",
    "    matrice[j][i] = field"
   ],
   "metadata": {
    "collapsed": false,
    "pycharm": {
     "name": "#%%\n"
    }
   }
  },
  {
   "cell_type": "code",
   "execution_count": null,
   "outputs": [],
   "source": [
    "# on complète la matrice en générant deux champs pour chaque ville\n",
    "def complete_matrice(matrice, M):\n",
    "    for i in range(M):\n",
    "        _nb_element = 2\n",
    "        _element = random.sample(range(M), _nb_element)\n",
    "        try:\n",
    "            for j in _element:\n",
    "                if i != j:\n",
    "                    field(matrice, i, j)\n",
    "        except:\n",
    "            _element = []\n",
    "            _element = random.sample(range(M), _nb_element)\n",
    "        finally:\n",
    "            for j in _element:\n",
    "                if i != j:\n",
    "                    field(matrice, i, j)\n",
    "        _element = []\n",
    "    return matrice"
   ],
   "metadata": {
    "collapsed": false,
    "pycharm": {
     "name": "#%%\n"
    }
   }
  },
  {
   "cell_type": "code",
   "execution_count": null,
   "outputs": [],
   "source": [
    "def organize_matrice(matrice):\n",
    "    for i in range(0, len(matrice)):\n",
    "        for j in range(i + 1, len(matrice)):\n",
    "            matrice[j][i] = matrice[i][j]"
   ],
   "metadata": {
    "collapsed": false,
    "pycharm": {
     "name": "#%%\n"
    }
   }
  },
  {
   "cell_type": "code",
   "execution_count": null,
   "outputs": [],
   "source": [
    "def info_matrice(matrice):\n",
    "    _map = {}\n",
    "    _list = []\n",
    "\n",
    "    dico = {\n",
    "        \"bool_chemin\": None,\n",
    "        \"voisin\": None,\n",
    "        \"distance\": None,\n",
    "        \"vitesse\": None,  # supprimer\n",
    "        \"temps\": None,\n",
    "        \"consommation\": None,\n",
    "        \"peage\": None,\n",
    "        \"cout\": None,\n",
    "        \"total\": None\n",
    "    }\n",
    "\n",
    "    for i in range(0, len(matrice)):\n",
    "        _list.clear()\n",
    "        for j in range(0, len(matrice)):\n",
    "            if matrice[i][j] != 0:\n",
    "                dico[\"bool_chemin\"] = matrice[i][j][0]\n",
    "                dico[\"voisin\"] = j\n",
    "                dico[\"distance\"] = matrice[i][j][1]\n",
    "                dico[\"vitesse\"] = matrice[i][j][2]\n",
    "                dico[\"temps\"] = matrice[i][j][3]\n",
    "                dico[\"consommation\"] = matrice[i][j][4]\n",
    "                dico[\"peage\"] = matrice[i][j][5]\n",
    "                dico[\"cout\"] = matrice[i][j][6]\n",
    "                dico[\"total\"] = matrice[i][j][7]\n",
    "                _list.append(copy.deepcopy(dico))\n",
    "        _map[i] = copy.deepcopy(_list)\n",
    "    return _map"
   ],
   "metadata": {
    "collapsed": false,
    "pycharm": {
     "name": "#%%\n"
    }
   }
  },
  {
   "cell_type": "markdown",
   "source": [
    "### Mutation\n",
    "\n",
    "La mutation permet d'apporter de la diversité au chromosone en lui changeant un ou plusieurs gène. <br>\n",
    "Nous utilisons deux types de mutation avec un pourcentage de chance 50 % chacun : <br>\n",
    "\n",
    "- Swap Bit mutation : Echange de deux ville dans le chromosone.\n",
    "\n",
    "  ![Swap Bit](img\\AlgoGen_SwapBit.png)\n",
    "\n",
    "- Mutation inverse : Inversement de deux ville.\n",
    "\n",
    "  ![Inverse Mutation](img\\AlgoGen_inverseMutation.png)\n"
   ],
   "metadata": {
    "collapsed": false,
    "pycharm": {
     "name": "#%% md\n"
    }
   }
  },
  {
   "cell_type": "code",
   "execution_count": null,
   "outputs": [],
   "source": [
    "def mutation(chromosone, probMutation, nbVille):\n",
    "    if probMutation > random.randint(0, 100):\n",
    "        firstGene = random.randint(0, nbVille)\n",
    "        secondGene = random.randint(0, nbVille)\n",
    "        chromosone[firstGene], chromosone[secondGene] = chromosone[secondGene], chromosone[firstGene]\n"
   ],
   "metadata": {
    "collapsed": false,
    "pycharm": {
     "name": "#%%\n"
    }
   }
  },
  {
   "cell_type": "code",
   "execution_count": null,
   "outputs": [],
   "source": [
    "N = 5\n",
    "D = 1000\n",
    "Cp = []\n",
    "Pc = 0.8\n",
    "Pm = 0.001\n",
    "Ng = 50"
   ],
   "metadata": {
    "collapsed": false,
    "pycharm": {
     "name": "#%%\n"
    }
   }
  },
  {
   "cell_type": "code",
   "execution_count": null,
   "outputs": [],
   "source": [
    "# on génère une matrice vide\n",
    "def generate_matrice(M, N):\n",
    "    matrice = []\n",
    "    for i in range(M):\n",
    "        line = []\n",
    "        for j in range(N):\n",
    "            line.append(0)\n",
    "        matrice.append(line)\n",
    "    return matrice"
   ],
   "metadata": {
    "collapsed": false,
    "pycharm": {
     "name": "#%%\n"
    }
   }
  },
  {
   "cell_type": "code",
   "execution_count": null,
   "outputs": [],
   "source": [
    "# on créer la structure des champs qui vont composer notre matrice\n",
    "def field(matrice, i, j):\n",
    "    inf = 1\n",
    "    sup = 50\n",
    "    _cost_essence = 1.80\n",
    "\n",
    "    field = []\n",
    "    km = (70, 80, 90, 110, 130)\n",
    "    dist = randint(inf, sup)\n",
    "    velocity = random.choice(km)\n",
    "    time = round((dist / velocity) * 60)\n",
    "    conso = 8\n",
    "    peage_cost = 0\n",
    "    if velocity == 130:\n",
    "        conso += conso * 0.2\n",
    "        peage_cost += round((1.9 + 4.5 * (dist / sup)), 1)\n",
    "    elif velocity == 110:\n",
    "        conso += conso * 0.15\n",
    "    price_essence = round((((dist * conso) / 100) * _cost_essence), 1)\n",
    "    total_price = round((peage_cost + price_essence), 1)\n",
    "    field.append(1)\n",
    "    field.append(dist)\n",
    "    field.append(velocity)  #supprimer\n",
    "    field.append(time)\n",
    "    field.append(conso)\n",
    "    field.append(peage_cost)\n",
    "    field.append(price_essence)\n",
    "    field.append(total_price)\n",
    "    # on renseigne ensuite le champs pour avoir la chemin entre les deux villes\n",
    "    matrice[i][j] = field\n",
    "    matrice[j][i] = field"
   ],
   "metadata": {
    "collapsed": false,
    "pycharm": {
     "name": "#%%\n"
    }
   }
  },
  {
   "cell_type": "code",
   "execution_count": null,
   "outputs": [],
   "source": [
    "# on complète la matrice en générant deux champs pour chaque ville\n",
    "def complete_matrice(matrice, M):\n",
    "    for i in range(M):\n",
    "        _nb_element = 2\n",
    "        _element = random.sample(range(M), _nb_element)\n",
    "        try:\n",
    "            for j in _element:\n",
    "                if i != j:\n",
    "                    field(matrice, i, j)\n",
    "        except:\n",
    "            _element = []\n",
    "            _element = random.sample(range(M), _nb_element)\n",
    "        finally:\n",
    "            for j in _element:\n",
    "                if i != j:\n",
    "                    field(matrice, i, j)\n",
    "        _element = []\n",
    "    return matrice"
   ],
   "metadata": {
    "collapsed": false,
    "pycharm": {
     "name": "#%%\n"
    }
   }
  },
  {
   "cell_type": "code",
   "execution_count": null,
   "outputs": [],
   "source": [
    "def organize_matrice(matrice):\n",
    "    for i in range(0, len(matrice)):\n",
    "        for j in range(i + 1, len(matrice)):\n",
    "            matrice[j][i] = matrice[i][j]"
   ],
   "metadata": {
    "collapsed": false,
    "pycharm": {
     "name": "#%%\n"
    }
   }
  },
  {
   "cell_type": "code",
   "execution_count": null,
   "outputs": [],
   "source": [
    "def info_matrice(matrice):\n",
    "    _map = {}\n",
    "    _list = []\n",
    "\n",
    "    dico = {\n",
    "        \"bool_chemin\": None,\n",
    "        \"voisin\": None,\n",
    "        \"distance\": None,\n",
    "        \"vitesse\": None,  # supprimer\n",
    "        \"temps\": None,\n",
    "        \"consommation\": None,\n",
    "        \"peage\": None,\n",
    "        \"cout\": None,\n",
    "        \"total\": None\n",
    "    }\n",
    "\n",
    "    for i in range(0, len(matrice)):\n",
    "        _list.clear()\n",
    "        for j in range(0, len(matrice)):\n",
    "            if matrice[i][j] != 0:\n",
    "                dico[\"bool_chemin\"] = matrice[i][j][0]\n",
    "                dico[\"voisin\"] = j\n",
    "                dico[\"distance\"] = matrice[i][j][1]\n",
    "                dico[\"vitesse\"] = matrice[i][j][2]\n",
    "                dico[\"temps\"] = matrice[i][j][3]\n",
    "                dico[\"consommation\"] = matrice[i][j][4]\n",
    "                dico[\"peage\"] = matrice[i][j][5]\n",
    "                dico[\"cout\"] = matrice[i][j][6]\n",
    "                dico[\"total\"] = matrice[i][j][7]\n",
    "                _list.append(copy.deepcopy(dico))\n",
    "        _map[i] = copy.deepcopy(_list)\n",
    "    return _map"
   ],
   "metadata": {
    "collapsed": false,
    "pycharm": {
     "name": "#%%\n"
    }
   }
  },
  {
   "cell_type": "code",
   "execution_count": null,
   "outputs": [],
   "source": [
    "def affiche_matrice(matrice):\n",
    "    for line in matrice:\n",
    "        print(line)"
   ],
   "metadata": {
    "collapsed": false,
    "pycharm": {
     "name": "#%%\n"
    }
   }
  },
  {
   "cell_type": "code",
   "execution_count": null,
   "outputs": [],
   "source": [
    "class GraphVisualization:\n",
    "\n",
    "    def __init__(self):\n",
    "        # visual is a list which stores all\n",
    "        # the set of edges that constitutes a\n",
    "        # graph\n",
    "        self.visual = []\n",
    "\n",
    "    # addEdge function inputs the vertices of an\n",
    "    # edge and appends it to the visual list\n",
    "    def addEdge(self, a, b):\n",
    "        temp = [a, b]\n",
    "        self.visual.append(temp)\n",
    "\n",
    "    # In visualize function G is an object of\n",
    "    # class Graph given by networkx G.add_edges_from(visual)\n",
    "    # creates a graph with a given list\n",
    "    # nx.draw_networkx(G) - plots the graph\n",
    "    # plt.show() - displays the graph\n",
    "    def visualize(self):\n",
    "        G = nx.Graph()\n",
    "        G.add_edges_from(self.visual)\n",
    "        nx.draw_networkx(G)\n",
    "        plt.show()\n",
    "\n",
    "\n",
    "# Calcul voisins\n",
    "def voisinsSommetGrapheMatrice(matrice, sommet):\n",
    "    liste = matrice[sommet]\n",
    "    voisins = [i for i, value in enumerate(liste) if liste[i] != 0]\n",
    "    return voisins"
   ],
   "metadata": {
    "collapsed": false,
    "pycharm": {
     "name": "#%%\n"
    }
   }
  },
  {
   "cell_type": "code",
   "execution_count": null,
   "outputs": [],
   "source": [
    "matrice = generate_matrice(1000, 1000)\n",
    "complete_matrice(matrice, 1000)\n",
    "organize_matrice(matrice)\n",
    "affiche_matrice(matrice)\n",
    "dico = info_matrice(matrice)\n",
    "\n",
    "print(dico)\n",
    "\n",
    "# Code\n",
    "G = GraphVisualization()\n",
    "\n",
    "for sommet in range(len(matrice)):\n",
    "    voisins = voisinsSommetGrapheMatrice(matrice, sommet)  # on procède en deux temps, car\n",
    "    print(\"sommet\", str(sommet), \":\", str([v for v in voisins]))  # les indices commencent à 0\n",
    "    for v in voisins:\n",
    "        G.addEdge(sommet, v)\n",
    "\n",
    "G.visualize()"
   ],
   "metadata": {
    "collapsed": false,
    "pycharm": {
     "name": "#%%\n"
    }
   }
  },
  {
   "cell_type": "markdown",
   "source": [
    "### Notes et réfèrences\n",
    "\n",
    "[Théorie des graphes](https://moodle-ingenieurs.cesi.fr/pluginfile.php/495242/mod_resource/content/4/res/ressources_TI_-_graphes.pdf)\n",
    "\n",
    "[Algorithme évolutionniste](https://fr.wikipedia.org/wiki/Algorithme_évolutionniste)\n",
    "\n",
    "[Choix de l'algorithme](https://www.researchgate.net/publication/312889331_Choice_of_best_possible_metaheuristic_algorithm_for_the_travelling_salesman_problem_with_limited_computational_time_Quality_uncertainty_and_speed)\n"
   ],
   "metadata": {
    "collapsed": false,
    "pycharm": {
     "name": "#%% md\n"
    }
   }
  },
  {
   "cell_type": "markdown",
   "source": [
    "### Notes et réfèrences\n",
    "\n",
    "[Théorie des graphes - ressources technique de l'ingénieur](https://moodle-ingenieurs.cesi.fr/pluginfile.php/495242/mod_resource/content/4/res/ressources_TI_-_graphes.pdf)\n",
    "[Choix de l'algorithme - Journal of Theoretical and Applied Computer Science](https://www.researchgate.net/publication/312889331_Choice_of_best_possible_metaheuristic_algorithm_for_the_travelling_salesman_problem_with_limited_computational_time_Quality_uncertainty_and_speed)\n",
    "[Une approche génétique pour la résolution du problème VRPTW dynamique](https://www.lgi2a.univ-artois.fr/spip/IMG/pdf/these_haiyan_housroum.pdf)\n",
    "[Métaheuristiques - ressource scholarvox](https://univ.scholarvox.com/reader/docid/88818856/page/1)\n",
    "[Said Bourazza. Variantes d’algorithmes génétiques appliquéees aux problèmes d’ordonnancement.\n",
    "Mathématiques [math]. Université du Havre, 2006. Français. fftel-00126292v2f](https://tel.archives-ouvertes.fr/tel-00126292/document)\n",
    "[Comparison of eight evolutionary crossover operators for the vehicle routing problem](https://www.researchgate.net/publication/268043232_Comparison_of_eight_evolutionary_crossover_operators_for_the_vehicle_routing_problem)\n"
   ],
   "metadata": {
    "collapsed": false,
    "pycharm": {
     "name": "#%% md\n"
    }
   }
  }
 ],
 "metadata": {
  "kernelspec": {
   "name": "algo_env",
   "language": "python",
   "display_name": "algo_env"
  },
  "language_info": {
   "codemirror_mode": {
    "name": "ipython",
    "version": 3
   },
   "file_extension": ".py",
   "mimetype": "text/x-python",
   "name": "python",
   "nbconvert_exporter": "python",
   "pygments_lexer": "ipython3",
   "version": "3.9.12"
  },
  "vscode": {
   "interpreter": {
    "hash": "ad2bdc8ecc057115af97d19610ffacc2b4e99fae6737bb82f5d7fb13d2f2c186"
   }
  }
 },
 "nbformat": 4,
 "nbformat_minor": 5
}